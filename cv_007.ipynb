{
 "cells": [
  {
   "cell_type": "code",
   "execution_count": null,
   "metadata": {},
   "outputs": [],
   "source": [
    "18%2"
   ]
  },
  {
   "cell_type": "code",
   "execution_count": null,
   "metadata": {},
   "outputs": [],
   "source": [
    "18//2"
   ]
  },
  {
   "cell_type": "code",
   "execution_count": null,
   "metadata": {},
   "outputs": [],
   "source": [
    "pow(4,3)"
   ]
  },
  {
   "cell_type": "code",
   "execution_count": null,
   "metadata": {},
   "outputs": [],
   "source": [
    "4**3"
   ]
  },
  {
   "cell_type": "code",
   "execution_count": null,
   "metadata": {},
   "outputs": [],
   "source": [
    "81**(1/2)"
   ]
  },
  {
   "cell_type": "code",
   "execution_count": null,
   "metadata": {},
   "outputs": [],
   "source": [
    "nome=str(input('Qual seu nome? '))\n",
    "print('Olá {:<20}'.format(nome))\n",
    "print('Olá {:>20}'.format(nome))\n",
    "print('Olá {:^20}'.format(nome))\n",
    "print('Olá {:*^20}'.format(nome))"
   ]
  },
  {
   "cell_type": "code",
   "execution_count": null,
   "metadata": {},
   "outputs": [],
   "source": [
    "n1=float(input('Digite n1: '))\n",
    "n2=float(input('Digite n2: '))\n",
    "s=n1+n2\n",
    "p=n1*n2\n",
    "d=n1/n2\n",
    "p=n1**n2\n",
    "di=n1//n2\n",
    "m=(n1+n2)/2\n",
    "print('A soma é {}, \\n o produto é {}, \\na divisão é {:.4f}, \\n a potencia é {}, \\n a Div Inteira é {:.4f}, \\n a média é {}'.format(s, p, d, p, di, m),end='')"
   ]
  },
  {
   "cell_type": "code",
   "execution_count": null,
   "metadata": {},
   "outputs": [],
   "source": [
    "n1=int(input('Digite um número: '))\n",
    "print('Os numeros antes do {} são {} e {}'.format(n1, n1-1, n1+1))\n",
    "print('\\n O dobro de {} \\n é {}, \\n o triplo é {}, \\n a raiz quadrada é {:.2f}'.format(n1, n1*2, n1*3, n1**(1/2)))"
   ]
  },
  {
   "cell_type": "code",
   "execution_count": null,
   "metadata": {},
   "outputs": [],
   "source": [
    "medida=int(input('digite uma medida em metros: '))\n",
    "print('{} metros é igual a \\n {}cm \\n {}mm '.format(medida, medida*100, medida*1000))"
   ]
  },
  {
   "cell_type": "code",
   "execution_count": null,
   "metadata": {},
   "outputs": [],
   "source": [
    "print('A tabuda de {} é:'.format(medida))\n",
    "print('-'*12)\n",
    "print('{:2} x {} = {}'.format(1, medida, medida*1))\n",
    "print('{:2} x {} = {}'.format(2, medida, medida*2))\n",
    "print('{:2} x {} = {}'.format(3, medida, medida*3))\n",
    "print('{:2} x {} = {}'.format(4, medida, medida*4))\n",
    "print('{:2} x {} = {}'.format(5, medida, medida*5))\n",
    "print('{:2} x {} = {}'.format(6, medida, medida*6))\n",
    "print('{:2} x {} = {}'.format(7, medida, medida*7))\n",
    "print('{:2} x {} = {}'.format(8, medida, medida*8))\n",
    "print('{:2} x {} = {}'.format(9, medida, medida*9))\n",
    "print('{:2} x {} = {}'.format(10, medida, medida*10))\n",
    "print('-'*12)"
   ]
  },
  {
   "cell_type": "code",
   "execution_count": null,
   "metadata": {},
   "outputs": [],
   "source": [
    "money=int(input('Quantos dinheiro vc tem: '))\n",
    "print('Você pode comprar {} dolares com {}'.format(money/5.85, money))\n",
    "print('Com o desconto de 5% vc tem {}'.format(money*.95))\n",
    "print('Com +15% vc tem {}'.format(money*1.15))"
   ]
  },
  {
   "cell_type": "code",
   "execution_count": null,
   "metadata": {},
   "outputs": [],
   "source": [
    "c=int(input())\n",
    "l=int(input())\n",
    "a=c*l\n",
    "print('Para pintar {} m2 vc precisa de: {} litos de tinta '.format(a, a/3))"
   ]
  },
  {
   "cell_type": "code",
   "execution_count": null,
   "metadata": {},
   "outputs": [],
   "source": []
  }
 ],
 "metadata": {
  "kernelspec": {
   "display_name": "Python 3",
   "language": "python",
   "name": "python3"
  },
  "language_info": {
   "codemirror_mode": {
    "name": "ipython",
    "version": 3
   },
   "file_extension": ".py",
   "mimetype": "text/x-python",
   "name": "python",
   "nbconvert_exporter": "python",
   "pygments_lexer": "ipython3",
   "version": "3.7.7"
  }
 },
 "nbformat": 4,
 "nbformat_minor": 4
}
