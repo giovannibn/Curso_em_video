{
 "cells": [
  {
   "cell_type": "code",
   "execution_count": null,
   "metadata": {},
   "outputs": [],
   "source": [
    "18%2"
   ]
  },
  {
   "cell_type": "code",
   "execution_count": null,
   "metadata": {},
   "outputs": [],
   "source": [
    "18//2"
   ]
  },
  {
   "cell_type": "code",
   "execution_count": null,
   "metadata": {},
   "outputs": [],
   "source": [
    "pow(4,3)"
   ]
  },
  {
   "cell_type": "code",
   "execution_count": null,
   "metadata": {},
   "outputs": [],
   "source": [
    "4**3"
   ]
  },
  {
   "cell_type": "code",
   "execution_count": null,
   "metadata": {},
   "outputs": [],
   "source": [
    "81**(1/2)"
   ]
  },
  {
   "cell_type": "code",
   "execution_count": null,
   "metadata": {},
   "outputs": [],
   "source": [
    "nome=str(input('Qual seu nome? '))\n",
    "print('Olá {:<20}'.format(nome))\n",
    "print('Olá {:>20}'.format(nome))\n",
    "print('Olá {:^20}'.format(nome))\n",
    "print('Olá {:*^20}'.format(nome))"
   ]
  },
  {
   "cell_type": "code",
   "execution_count": null,
   "metadata": {},
   "outputs": [],
   "source": [
    "n1=float(input('Digite n1: '))\n",
    "n2=float(input('Digite n2: '))\n",
    "s=n1+n2\n",
    "p=n1*n2\n",
    "d=n1/n2\n",
    "p=n1**n2\n",
    "di=n1//n2\n",
    "m=(n1+n2)/2\n",
    "print('A soma é {}, \\n o produto é {}, \\na divisão é {:.4f}, \\n a potencia é {}, \\n a Div Inteira é {:.4f}, \\n a média é {}'.format(s, p, d, p, di, m),end='')"
   ]
  },
  {
   "cell_type": "code",
   "execution_count": null,
   "metadata": {},
   "outputs": [],
   "source": [
    "n1=int(input('Digite um número: '))\n",
    "print('Os numeros antes do {} são {} e {}'.format(n1, n1-1, n1+1))\n",
    "print('\\n O dobro de {} \\n é {}, \\n o triplo é {}, \\n a raiz quadrada é {:.2f}'.format(n1, n1*2, n1*3, n1**(1/2)))"
   ]
  },
  {
   "cell_type": "code",
   "execution_count": null,
   "metadata": {},
   "outputs": [],
   "source": [
    "medida=int(input('digite uma medida em metros: '))\n",
    "print('{} metros é igual a \\n {}cm \\n {}mm '.format(medida, medida*100, medida*1000))"
   ]
  },
  {
   "cell_type": "code",
   "execution_count": null,
   "metadata": {},
   "outputs": [],
   "source": [
    "print('A tabuda de {} é:'.format(medida))\n",
    "print('-'*12)\n",
    "print('{:2} x {} = {}'.format(1, medida, medida*1))\n",
    "print('{:2} x {} = {}'.format(2, medida, medida*2))\n",
    "print('{:2} x {} = {}'.format(3, medida, medida*3))\n",
    "print('{:2} x {} = {}'.format(4, medida, medida*4))\n",
    "print('{:2} x {} = {}'.format(5, medida, medida*5))\n",
    "print('{:2} x {} = {}'.format(6, medida, medida*6))\n",
    "print('{:2} x {} = {}'.format(7, medida, medida*7))\n",
    "print('{:2} x {} = {}'.format(8, medida, medida*8))\n",
    "print('{:2} x {} = {}'.format(9, medida, medida*9))\n",
    "print('{:2} x {} = {}'.format(10, medida, medida*10))\n",
    "print('-'*12)"
   ]
  },
  {
   "cell_type": "code",
   "execution_count": null,
   "metadata": {},
   "outputs": [],
   "source": [
    "money=float(input('Quantos dinheiro vc tem:R$ '))\n",
    "print('Você pode comprar Us${:.2f} com {}'.format(money/5.85, money))\n",
    "print('Com o desconto de 5% vc tem {:.2f}'.format(money*.95))\n",
    "print('Com +15% vc tem {:.2f}'.format(money*1.15))"
   ]
  },
  {
   "cell_type": "code",
   "execution_count": null,
   "metadata": {},
   "outputs": [],
   "source": [
    "c=float(input())\n",
    "l=float(input())\n",
    "a=c*l\n",
    "print('Para pintar {} m2 vc precisa de: {:.2f} litros de tinta '.format(a, a/3))"
   ]
  },
  {
   "cell_type": "code",
   "execution_count": null,
   "metadata": {},
   "outputs": [],
   "source": [
    "tempC=float(input('Digite uma temperatura em C:'))\n",
    "print('A temperatura em F de {}C é {:.2f}F'.format(tempC, (1.8*tempC)+32))"
   ]
  },
  {
   "cell_type": "code",
   "execution_count": null,
   "metadata": {},
   "outputs": [],
   "source": [
    "alugueldias=int(input('Quantos dias vc alugou o carro? (dias)'))\n",
    "aluguelkm=float(input('Quantos km você rodou? (km)'))\n",
    "custo=(alugueldias*60)+(aluguelkm*.15)\n",
    "print('O custo do seu aluguel de {}dias e {:.2f}km rodados é de US${:.2f}'.format(alugueldias, aluguelkm, custo))"
   ]
  },
  {
   "cell_type": "code",
   "execution_count": null,
   "metadata": {},
   "outputs": [],
   "source": [
    "# 008\n",
    "\n",
    "# import biblioteca as xxxx > importa toda biblioteca\n",
    "# from biblioteca import modulo importa apenas módulo\n",
    "# ceil = arredondar para cima\n",
    "# floor = arredondar para baixo"
   ]
  },
  {
   "cell_type": "code",
   "execution_count": 11,
   "metadata": {
    "scrolled": true
   },
   "outputs": [
    {
     "name": "stdout",
     "output_type": "stream",
     "text": [
      "Digite um número80\n",
      "A raiz de 80 é 8.94427190999916\n",
      "Arredondando para cima 9 e para baixo 8\n"
     ]
    }
   ],
   "source": [
    "import math \n",
    "numero=int(input('Digite um número')) \n",
    "raiz=math.sqrt(numero)\n",
    "print('A raiz de {} é {}'.format(numero, (raiz)))\n",
    "print('Arredondando para cima {} e para baixo {}'.format(math.ceil(raiz), math.floor(raiz)))"
   ]
  },
  {
   "cell_type": "code",
   "execution_count": 15,
   "metadata": {},
   "outputs": [
    {
     "ename": "SyntaxError",
     "evalue": "invalid syntax (<ipython-input-15-b02e6e6c7025>, line 1)",
     "output_type": "error",
     "traceback": [
      "\u001b[1;36m  File \u001b[1;32m\"<ipython-input-15-b02e6e6c7025>\"\u001b[1;36m, line \u001b[1;32m1\u001b[0m\n\u001b[1;33m    from math import\u001b[0m\n\u001b[1;37m                     ^\u001b[0m\n\u001b[1;31mSyntaxError\u001b[0m\u001b[1;31m:\u001b[0m invalid syntax\n"
     ]
    }
   ],
   "source": [
    "import random as rd\n",
    "from rando "
   ]
  }
 ],
 "metadata": {
  "kernelspec": {
   "display_name": "Python 3",
   "language": "python",
   "name": "python3"
  },
  "language_info": {
   "codemirror_mode": {
    "name": "ipython",
    "version": 3
   },
   "file_extension": ".py",
   "mimetype": "text/x-python",
   "name": "python",
   "nbconvert_exporter": "python",
   "pygments_lexer": "ipython3",
   "version": "3.7.7"
  }
 },
 "nbformat": 4,
 "nbformat_minor": 4
}
